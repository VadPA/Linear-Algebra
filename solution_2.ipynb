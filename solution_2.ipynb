{
 "cells": [
  {
   "cell_type": "code",
   "execution_count": 1,
   "id": "8c1bcf9b",
   "metadata": {},
   "outputs": [],
   "source": [
    "import numpy as np"
   ]
  },
  {
   "cell_type": "markdown",
   "id": "05700860",
   "metadata": {},
   "source": [
    "### 1.1. Установить, какие произведения матриц  𝐴𝐵  и  𝐵𝐴  определены, и найти размерности полученных матриц"
   ]
  },
  {
   "cell_type": "markdown",
   "id": "9b02c80c",
   "metadata": {},
   "source": [
    "#### б)"
   ]
  },
  {
   "cell_type": "code",
   "execution_count": 2,
   "id": "05f95a52",
   "metadata": {},
   "outputs": [
    {
     "name": "stdout",
     "output_type": "stream",
     "text": [
      "Матрица:\n",
      "[[ 1  2  3  4  5]\n",
      " [ 6  7  8  9 10]]\n",
      "Матрица:\n",
      "[[ 3  2  1]\n",
      " [ 6  9 10]\n",
      " [ 7  8  9]\n",
      " [ 4  1  6]\n",
      " [ 3  8 10]]\n"
     ]
    }
   ],
   "source": [
    "a = np.array([[1, 2, 3, 4, 5], [6, 7, 8, 9, 10]])\n",
    "b = np.array([[3, 2, 1], [6, 9, 10], [7, 8, 9], [4, 1, 6], [3, 8,10]])\n",
    "print(f'Матрица:\\n{a}')\n",
    "print(f'Матрица:\\n{b}')"
   ]
  },
  {
   "cell_type": "code",
   "execution_count": 24,
   "id": "d8f3e3e2",
   "metadata": {},
   "outputs": [
    {
     "name": "stdout",
     "output_type": "stream",
     "text": [
      "Матрица c = a*b :\n",
      "[[ 67  88 122]\n",
      " [182 228 302]]\n",
      "размерность результирующей матрицы c:\n",
      "(2, 3)\n"
     ]
    }
   ],
   "source": [
    "c = np.dot(a, b)\n",
    "print(f'Матрица c = a*b :\\n{c}')\n",
    "print(f'размерность результирующей матрицы c:\\n{c.shape}')"
   ]
  },
  {
   "cell_type": "markdown",
   "id": "6d32faed",
   "metadata": {},
   "source": [
    "#### в)"
   ]
  },
  {
   "cell_type": "code",
   "execution_count": 25,
   "id": "89443e41",
   "metadata": {},
   "outputs": [
    {
     "name": "stdout",
     "output_type": "stream",
     "text": [
      "Матрица:\n",
      "[[1 2 3]\n",
      " [6 7 8]\n",
      " [3 2 1]\n",
      " [8 7 6]\n",
      " [4 5 2]\n",
      " [2 3 8]\n",
      " [9 4 1]\n",
      " [6 3 1]]\n",
      "Матрица:\n",
      "[[3 2 1 4 1 6 7 2]\n",
      " [3 0 1 4 5 6 3 3]\n",
      " [4 2 2 0 1 6 8 9]]\n"
     ]
    }
   ],
   "source": [
    "a = np.array([[1, 2, 3], [6, 7, 8], [3, 2, 1], [8, 7, 6], [4, 5, 2], [2, 3, 8], [9, 4, 1], [6, 3, 1]])\n",
    "b = np.array([[3, 2, 1, 4, 1, 6, 7, 2], [3, 0, 1, 4, 5, 6, 3, 3], [4, 2, 2, 0, 1, 6, 8, 9]])\n",
    "print(f'Матрица:\\n{a}')\n",
    "print(f'Матрица:\\n{b}')"
   ]
  },
  {
   "cell_type": "code",
   "execution_count": 26,
   "id": "cfd47078",
   "metadata": {},
   "outputs": [
    {
     "name": "stdout",
     "output_type": "stream",
     "text": [
      "Матрица c = a*b :\n",
      "[[ 21   8   9  12  14  36  37  35]\n",
      " [ 71  28  29  52  49 126 127 105]\n",
      " [ 19   8   7  20  14  36  35  21]\n",
      " [ 69  28  27  60  49 126 125  91]\n",
      " [ 35  12  13  36  31  66  59  41]\n",
      " [ 47  20  21  20  25  78  87  85]\n",
      " [ 43  20  15  52  30  84  83  39]\n",
      " [ 31  14  11  36  22  60  59  30]]\n",
      "размерность результирующей матрицы c:\n",
      "(8, 8)\n"
     ]
    }
   ],
   "source": [
    "c = np.dot(a, b)\n",
    "print(f'Матрица c = a*b :\\n{c}')\n",
    "print(f'размерность результирующей матрицы c:\\n{c.shape}')"
   ]
  },
  {
   "cell_type": "markdown",
   "id": "06ba7e43",
   "metadata": {},
   "source": [
    "#### г)"
   ]
  },
  {
   "cell_type": "code",
   "execution_count": 27,
   "id": "3af65e58",
   "metadata": {},
   "outputs": [
    {
     "name": "stdout",
     "output_type": "stream",
     "text": [
      "Матрица:\n",
      "[[1 2 3 4]\n",
      " [6 8 3 1]\n",
      " [7 4 5 2]\n",
      " [2 9 4 1]]\n",
      "Матрица:\n",
      "[[6 8 3 1]\n",
      " [2 9 4 1]\n",
      " [6 1 1 0]\n",
      " [1 2 3 4]]\n"
     ]
    }
   ],
   "source": [
    "a = np.array([[1, 2, 3, 4], [6, 8, 3, 1], [7, 4, 5, 2], [2, 9, 4, 1]])\n",
    "b = np.array([[6, 8, 3, 1], [2, 9, 4, 1], [6, 1, 1, 0], [1, 2, 3, 4]])\n",
    "print(f'Матрица:\\n{a}')\n",
    "print(f'Матрица:\\n{b}')"
   ]
  },
  {
   "cell_type": "code",
   "execution_count": 28,
   "id": "761d0d33",
   "metadata": {
    "scrolled": true
   },
   "outputs": [
    {
     "name": "stdout",
     "output_type": "stream",
     "text": [
      "Матрица c = a*b :\n",
      "[[ 32  37  26  19]\n",
      " [ 71 125  56  18]\n",
      " [ 82 101  48  19]\n",
      " [ 55 103  49  15]]\n",
      "размерность результирующей матрицы c:\n",
      "(4, 4)\n"
     ]
    }
   ],
   "source": [
    "c = np.dot(a, b)\n",
    "print(f'Матрица c = a*b :\\n{c}')\n",
    "print(f'размерность результирующей матрицы c:\\n{c.shape}')"
   ]
  },
  {
   "cell_type": "markdown",
   "id": "0257462f",
   "metadata": {},
   "source": [
    "### 1.2. Найти сумму и произведение матриц  𝐴  и  𝐵."
   ]
  },
  {
   "cell_type": "code",
   "execution_count": 29,
   "id": "38200bfe",
   "metadata": {},
   "outputs": [],
   "source": [
    "A = np.array([[1, -2], [3, 0]])\n",
    "B = np.array([[4, -1], [0, 5]])"
   ]
  },
  {
   "cell_type": "code",
   "execution_count": 30,
   "id": "c639e55b",
   "metadata": {},
   "outputs": [
    {
     "data": {
      "text/plain": [
       "array([[ 5, -3],\n",
       "       [ 3,  5]])"
      ]
     },
     "execution_count": 30,
     "metadata": {},
     "output_type": "execute_result"
    }
   ],
   "source": [
    "C = A + B\n",
    "C"
   ]
  },
  {
   "cell_type": "code",
   "execution_count": 31,
   "id": "64ae9dbb",
   "metadata": {},
   "outputs": [
    {
     "data": {
      "text/plain": [
       "array([[  4, -11],\n",
       "       [ 12,  -3]])"
      ]
     },
     "execution_count": 31,
     "metadata": {},
     "output_type": "execute_result"
    }
   ],
   "source": [
    "C2 = np.dot(A,B)\n",
    "C2"
   ]
  },
  {
   "cell_type": "markdown",
   "id": "f25e31b9",
   "metadata": {},
   "source": [
    "### 1.3. Из закономерностей сложения и умножения матриц на число можно сделать вывод, что матрицы одного размера образуют линейное пространство. Вычислить линейную комбинацию  3𝐴−2𝐵+4𝐶  для матриц"
   ]
  },
  {
   "cell_type": "markdown",
   "id": "2247cf3b",
   "metadata": {},
   "source": [
    "<img src='task_3.png' width=400px>"
   ]
  },
  {
   "cell_type": "code",
   "execution_count": 7,
   "id": "38d3cd5e",
   "metadata": {},
   "outputs": [],
   "source": [
    "a3 = np.array([[1, 7], [3, -6]])\n",
    "b3 = np.array([[0, 5], [2, -1]])\n",
    "c3 = np.array([[2, -4], [1, 1]])"
   ]
  },
  {
   "cell_type": "code",
   "execution_count": 8,
   "id": "9abd6690",
   "metadata": {},
   "outputs": [
    {
     "data": {
      "text/plain": [
       "array([[ 11,  -5],\n",
       "       [  9, -12]])"
      ]
     },
     "execution_count": 8,
     "metadata": {},
     "output_type": "execute_result"
    }
   ],
   "source": [
    "d = 3*a3 - 2*b3 + 4*c3\n",
    "d"
   ]
  },
  {
   "cell_type": "markdown",
   "id": "bafc1f95",
   "metadata": {},
   "source": [
    "<img src='task_4.png' width=400px>"
   ]
  },
  {
   "cell_type": "code",
   "execution_count": 9,
   "id": "c8399299",
   "metadata": {},
   "outputs": [
    {
     "data": {
      "text/plain": [
       "array([[ 4,  1],\n",
       "       [ 5, -2],\n",
       "       [ 2,  3]])"
      ]
     },
     "execution_count": 9,
     "metadata": {},
     "output_type": "execute_result"
    }
   ],
   "source": [
    "a4 = np.array([[4, 1], [5, -2], [2, 3]])\n",
    "a4"
   ]
  },
  {
   "cell_type": "code",
   "execution_count": 10,
   "id": "7aee6f9d",
   "metadata": {},
   "outputs": [
    {
     "data": {
      "text/plain": [
       "array([[17, 18, 11],\n",
       "       [18, 29,  4],\n",
       "       [11,  4, 13]])"
      ]
     },
     "execution_count": 10,
     "metadata": {},
     "output_type": "execute_result"
    }
   ],
   "source": [
    "c = np.dot(a4,a4.T)\n",
    "c"
   ]
  },
  {
   "cell_type": "code",
   "execution_count": 11,
   "id": "d86ea409",
   "metadata": {},
   "outputs": [
    {
     "data": {
      "text/plain": [
       "array([[45,  0],\n",
       "       [ 0, 14]])"
      ]
     },
     "execution_count": 11,
     "metadata": {},
     "output_type": "execute_result"
    }
   ],
   "source": [
    "d = np.dot(a4.T,a4)\n",
    "d"
   ]
  },
  {
   "cell_type": "markdown",
   "id": "27979bcf",
   "metadata": {},
   "source": [
    "### 2.1. Вычислить определитель"
   ]
  },
  {
   "cell_type": "markdown",
   "id": "f0b8d546",
   "metadata": {},
   "source": [
    "#### a)"
   ]
  },
  {
   "cell_type": "code",
   "execution_count": 38,
   "id": "0521438d",
   "metadata": {},
   "outputs": [
    {
     "name": "stdout",
     "output_type": "stream",
     "text": [
      "Матрица a:\n",
      "[[-0.95892427 -0.28366219]\n",
      " [ 0.28366219 -0.95892427]]\n"
     ]
    }
   ],
   "source": [
    "x=5\n",
    "a = np.array([[np.sin(x), -np.cos(x)], [np.cos(x), np.sin(x)]])\n",
    "print(f'Матрица a:\\n{a}')"
   ]
  },
  {
   "cell_type": "code",
   "execution_count": 40,
   "id": "fdd10ae2",
   "metadata": {},
   "outputs": [
    {
     "name": "stdout",
     "output_type": "stream",
     "text": [
      "Определитель матрицы a:\n",
      "1.0\n"
     ]
    }
   ],
   "source": [
    "print(f'Определитель матрицы a:\\n{np.linalg.det(a)}')"
   ]
  },
  {
   "cell_type": "markdown",
   "id": "614cafe6",
   "metadata": {},
   "source": [
    "#### б)"
   ]
  },
  {
   "cell_type": "code",
   "execution_count": 41,
   "id": "70f6e405",
   "metadata": {},
   "outputs": [
    {
     "name": "stdout",
     "output_type": "stream",
     "text": [
      "Матрица a:\n",
      "[[4 2 3]\n",
      " [0 5 1]\n",
      " [0 0 9]]\n"
     ]
    }
   ],
   "source": [
    "a = np.array([[4, 2, 3], [0, 5, 1], [0, 0, 9]])\n",
    "print(f'Матрица a:\\n{a}')"
   ]
  },
  {
   "cell_type": "code",
   "execution_count": 42,
   "id": "bfc00d9b",
   "metadata": {},
   "outputs": [
    {
     "name": "stdout",
     "output_type": "stream",
     "text": [
      "Определитель матрицы a:\n",
      "180.0\n"
     ]
    }
   ],
   "source": [
    "print(f'Определитель матрицы a:\\n{np.linalg.det(a)}')"
   ]
  },
  {
   "cell_type": "markdown",
   "id": "84f93449",
   "metadata": {},
   "source": [
    "#### в)"
   ]
  },
  {
   "cell_type": "code",
   "execution_count": 43,
   "id": "08a49bc0",
   "metadata": {},
   "outputs": [
    {
     "name": "stdout",
     "output_type": "stream",
     "text": [
      "Матрица a:\n",
      "[[1 2 3]\n",
      " [4 5 6]\n",
      " [7 8 9]]\n"
     ]
    }
   ],
   "source": [
    "a = np.array([[1, 2, 3], [4, 5, 6], [7, 8, 9]])\n",
    "print(f'Матрица a:\\n{a}')"
   ]
  },
  {
   "cell_type": "code",
   "execution_count": 45,
   "id": "5b69c032",
   "metadata": {},
   "outputs": [
    {
     "name": "stdout",
     "output_type": "stream",
     "text": [
      "Определитель матрицы a:\n",
      "0\n"
     ]
    }
   ],
   "source": [
    "print(f'Определитель матрицы a:\\n{np.linalg.det(a):.0f}')"
   ]
  },
  {
   "cell_type": "markdown",
   "id": "12889d2e",
   "metadata": {},
   "source": [
    "### 2.3. Доказать, что матрица 𝐴 вырожденная."
   ]
  },
  {
   "cell_type": "code",
   "execution_count": 46,
   "id": "fc0a6166",
   "metadata": {},
   "outputs": [
    {
     "name": "stdout",
     "output_type": "stream",
     "text": [
      "Матрица a:\n",
      "[[ -2   7  -3]\n",
      " [  4 -14   6]\n",
      " [ -3   7  13]]\n"
     ]
    }
   ],
   "source": [
    "a = np.array([[-2, 7, -3], [4, -14, 6], [-3, 7, 13]])\n",
    "print(f'Матрица a:\\n{a}')"
   ]
  },
  {
   "cell_type": "markdown",
   "id": "ce73844b",
   "metadata": {},
   "source": [
    "#### Матрица называется вырожденной если её определитель равен нулю."
   ]
  },
  {
   "cell_type": "code",
   "execution_count": 47,
   "id": "da49d64e",
   "metadata": {},
   "outputs": [
    {
     "name": "stdout",
     "output_type": "stream",
     "text": [
      "Определитель матрицы a:\n",
      "0\n"
     ]
    }
   ],
   "source": [
    "print(f'Определитель матрицы a:\\n{np.linalg.det(a):.0f}')"
   ]
  },
  {
   "cell_type": "markdown",
   "id": "99d0cbf8",
   "metadata": {},
   "source": [
    "#### Следовательно матрица вырожденная."
   ]
  },
  {
   "cell_type": "markdown",
   "id": "d007d93d",
   "metadata": {},
   "source": [
    "### 2.4. Найти ранг матрицы."
   ]
  },
  {
   "cell_type": "markdown",
   "id": "728de4ce",
   "metadata": {},
   "source": [
    "#### а)"
   ]
  },
  {
   "cell_type": "code",
   "execution_count": 21,
   "id": "8e396d85",
   "metadata": {},
   "outputs": [],
   "source": [
    "a6 = np.array([[1, 2, 3], [1, 1, 1], [2, 3, 4]])"
   ]
  },
  {
   "cell_type": "code",
   "execution_count": 22,
   "id": "43b380eb",
   "metadata": {},
   "outputs": [
    {
     "data": {
      "text/plain": [
       "2"
      ]
     },
     "execution_count": 22,
     "metadata": {},
     "output_type": "execute_result"
    }
   ],
   "source": [
    "r = np.linalg.matrix_rank(a6)\n",
    "r"
   ]
  },
  {
   "cell_type": "markdown",
   "id": "66f62e83",
   "metadata": {},
   "source": [
    "#### б)"
   ]
  },
  {
   "cell_type": "code",
   "execution_count": 23,
   "id": "02e03d37",
   "metadata": {},
   "outputs": [
    {
     "data": {
      "text/plain": [
       "3"
      ]
     },
     "execution_count": 23,
     "metadata": {},
     "output_type": "execute_result"
    }
   ],
   "source": [
    "a7 = np.array([[0, 0, 2, 1], [0, 0, 2, 2], [0, 0, 4, 3], [2, 3, 5, 6]])\n",
    "r2 = np.linalg.matrix_rank(a7)\n",
    "r2"
   ]
  }
 ],
 "metadata": {
  "kernelspec": {
   "display_name": "Python 3",
   "language": "python",
   "name": "python3"
  },
  "language_info": {
   "codemirror_mode": {
    "name": "ipython",
    "version": 3
   },
   "file_extension": ".py",
   "mimetype": "text/x-python",
   "name": "python",
   "nbconvert_exporter": "python",
   "pygments_lexer": "ipython3",
   "version": "3.8.8"
  }
 },
 "nbformat": 4,
 "nbformat_minor": 5
}
